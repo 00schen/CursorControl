{
 "cells": [
  {
   "cell_type": "code",
   "execution_count": 1,
   "metadata": {},
   "outputs": [],
   "source": [
    "import torch as th\n",
    "from torch import nn\n",
    "from torch.nn import functional as F\n",
    "from torch import optim\n",
    "from collections import OrderedDict\n",
    "from tqdm import tqdm"
   ]
  },
  {
   "cell_type": "code",
   "execution_count": 2,
   "metadata": {},
   "outputs": [],
   "source": [
    "rand_data = (2*th.rand((1024,2))-1)*1e4\n",
    "rand_bool = th.randint(0,2,(1024,1))\n",
    "rand_data = th.cat((rand_data,rand_bool),dim=1)\n",
    "# rand_labels = rand_data.sum(dim=1)"
   ]
  },
  {
   "cell_type": "code",
   "execution_count": 3,
   "metadata": {},
   "outputs": [],
   "source": [
    "def sample_batch(batch_size,train_data):\n",
    "    indicies = th.randint(0,train_data.size(0),(batch_size,))\n",
    "    bool_batch = train_data[indicies]\n",
    "    return bool_batch"
   ]
  },
  {
   "cell_type": "code",
   "execution_count": 10,
   "metadata": {},
   "outputs": [],
   "source": [
    "model = nn.Sequential(OrderedDict([\n",
    "#     ('embedding', nn.Embedding(num_embeddings=2,embedding_dim=10)),\n",
    "#     ('norm1',nn.BatchNorm1d(2,affine=False)),\n",
    "    ('ln1', nn.Linear(12,10)),\n",
    "    ('relu', nn.LeakyReLU()),\n",
    "    ('ln2', nn.Linear(10,1)),\n",
    "#     ('norm2',nn.LayerNorm(1)),\n",
    "]))\n",
    "embedder = nn.Embedding(num_embeddings=2,embedding_dim=10)\n",
    "normer = nn.BatchNorm1d(2,affine=False)\n",
    "# criterion = nn.BCEWithLogitsLoss()\n",
    "criterion = nn.MSELoss()\n",
    "optimizer = optim.Adam(params=model.parameters(),lr=1e-4)"
   ]
  },
  {
   "cell_type": "code",
   "execution_count": 11,
   "metadata": {},
   "outputs": [
    {
     "name": "stderr",
     "output_type": "stream",
     "text": [
      "---------- Epoch: 4999 Loss: 0.25192949175834656 ----------: 100%|██████████| 5000/5000 [00:26<00:00, 188.18it/s]\n"
     ]
    }
   ],
   "source": [
    "num_epochs = int(5e3)\n",
    "batch_size=256\n",
    "losses = []\n",
    "# accuracies =[]\n",
    "t = tqdm(range(num_epochs),miniters=100)\n",
    "for epoch in t:\n",
    "    batch = sample_batch(batch_size,rand_data)\n",
    "#     batch = (~batch.bool()).long()\n",
    "    embed = embedder(batch[:,-1].long())\n",
    "    norm = normer(batch[:,:2])\n",
    "    batch = th.cat((norm,embed),dim=1)\n",
    "    out = model(batch)\n",
    "#     out = out.squeeze()\n",
    "    target = th.where(batch[:,-1].bool(),th.square(batch[:,0])+batch[:,1],th.square(batch[:,0])-batch[:,1])\n",
    "    loss = criterion(out,nn.BatchNorm1d(1,affine=False)(target.view(-1,1)))\n",
    "#     accuracy = th.eq(out.sigmoid()>.5,batch).float().mean().detach()\n",
    "    \n",
    "    optimizer.zero_grad()\n",
    "    loss.backward()\n",
    "    optimizer.step()\n",
    "    \n",
    "    losses.append(loss.detach().numpy())\n",
    "#     accuracies.append(accuracy.numpy())\n",
    "    t.set_description(f\"---------- Epoch: {epoch} Loss: {loss} ----------\")\n",
    "#     print(f\"---------- Epoch: {epoch} Loss: {loss} Accuracy: {accuracy} ----------\")\n",
    "#     print(f\"---------- Epoch: {epoch} Loss: {loss} ----------\")\n",
    "    "
   ]
  },
  {
   "cell_type": "code",
   "execution_count": 12,
   "metadata": {},
   "outputs": [],
   "source": [
    "from matplotlib import pyplot as plt"
   ]
  },
  {
   "cell_type": "code",
   "execution_count": 13,
   "metadata": {},
   "outputs": [
    {
     "data": {
      "text/plain": [
       "[<matplotlib.lines.Line2D at 0x7f702864aa10>]"
      ]
     },
     "execution_count": 13,
     "metadata": {},
     "output_type": "execute_result"
    },
    {
     "data": {
      "image/png": "[encoded data removed]",
      "text/plain": [
       "<Figure size 432x288 with 1 Axes>"
      ]
     },
     "metadata": {
      "needs_background": "light"
     },
     "output_type": "display_data"
    }
   ],
   "source": [
    "plt.plot(range(len(losses)),losses)"
   ]
  },
  {
   "cell_type": "code",
   "execution_count": null,
   "metadata": {},
   "outputs": [],
   "source": []
  },
  {
   "cell_type": "code",
   "execution_count": null,
   "metadata": {},
   "outputs": [],
   "source": []
  },
  {
   "cell_type": "code",
   "execution_count": null,
   "metadata": {},
   "outputs": [],
   "source": []
  },
  {
   "cell_type": "code",
   "execution_count": null,
   "metadata": {},
   "outputs": [],
   "source": []
  },
  {
   "cell_type": "code",
   "execution_count": null,
   "metadata": {},
   "outputs": [],
   "source": []
  },
  {
   "cell_type": "code",
   "execution_count": null,
   "metadata": {},
   "outputs": [],
   "source": []
  },
  {
   "cell_type": "code",
   "execution_count": null,
   "metadata": {},
   "outputs": [],
   "source": []
  },
  {
   "cell_type": "code",
   "execution_count": null,
   "metadata": {},
   "outputs": [],
   "source": []
  }
 ],
 "metadata": {
  "kernelspec": {
   "display_name": "Python 3",
   "language": "python",
   "name": "python3"
  },
  "language_info": {
   "codemirror_mode": {
    "name": "ipython",
    "version": 3
   },
   "file_extension": ".py",
   "mimetype": "text/x-python",
   "name": "python",
   "nbconvert_exporter": "python",
   "pygments_lexer": "ipython3",
   "version": "3.7.7"
  }
 },
 "nbformat": 4,
 "nbformat_minor": 4
}
