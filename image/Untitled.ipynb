{
 "cells": [
  {
   "cell_type": "code",
   "execution_count": 25,
   "metadata": {},
   "outputs": [],
   "source": [
    "import os\n",
    "import pickle as pkl\n",
    "import dill\n",
    "import numpy as np\n",
    "import torch as th\n",
    "from matplotlib import pyplot as plt\n",
    "from mpl_toolkits.mplot3d import Axes3D"
   ]
  },
  {
   "cell_type": "code",
   "execution_count": 2,
   "metadata": {},
   "outputs": [
    {
     "name": "stdout",
     "output_type": "stream",
     "text": [
      "user_0 0.004202757418891907\n",
      "user_1 0.0\n",
      "user_2 0.04134705332086062\n",
      "user_3 0.00029157352512391874\n",
      "user_4 0.005872651944813161\n",
      "user_5 0.03495544893762851\n",
      "user_6 0.6076576353459805\n",
      "user_7 0.8164115923152068\n",
      "user_9 0.00014778325123152708\n",
      "user_10 1.0\n"
     ]
    }
   ],
   "source": [
    "for i in [0,1,2,3,4,5,6,7,9,10]:\n",
    "    user = f'user_{i}'\n",
    "    data_path = os.path.join(os.path.abspath(''), 'logs', user)\n",
    "    zeros = []\n",
    "    for exp in list(os.listdir(data_path)):\n",
    "        try:\n",
    "            data_file = os.path.join(data_path,exp,'data.pkl')\n",
    "            with open(data_file, 'rb') as f:\n",
    "                data = pkl.load(f)\n",
    "        except:\n",
    "            continue\n",
    "        data = sum(data,[])\n",
    "\n",
    "        for datum in data:\n",
    "            gaze = [step['gaze_features'] for step in datum['observations']]\n",
    "            zeros += [np.count_nonzero(feat) == 0 for feat in gaze]\n",
    "    print(user,np.mean(zeros))"
   ]
  },
  {
   "cell_type": "code",
   "execution_count": 7,
   "metadata": {},
   "outputs": [],
   "source": [
    "user = f'user_1'\n",
    "data_path = os.path.join(os.path.abspath(''), 'logs', user)\n",
    "zeros = []\n",
    "exp = list(os.listdir(data_path))[2]\n",
    "data_file = os.path.join(data_path,exp,'data.pkl')\n",
    "with open(data_file, 'rb') as f:\n",
    "    data = pkl.load(f)\n",
    "data = sum(data,[])\n",
    "params_file = os.path.join(data_path,exp,'params.pkl')\n",
    "loaded = th.load(params_file, map_location='cpu')\n",
    "encoder = loaded['trainer/vae'].encoder"
   ]
  },
  {
   "cell_type": "code",
   "execution_count": 8,
   "metadata": {},
   "outputs": [
    {
     "data": {
      "text/plain": [
       "Mlp(\n",
       "  (fc0): Linear(in_features=162, out_features=64, bias=True)\n",
       "  (last_fc): Linear(in_features=64, out_features=6, bias=True)\n",
       ")"
      ]
     },
     "execution_count": 8,
     "metadata": {},
     "output_type": "execute_result"
    }
   ],
   "source": [
    "encoder"
   ]
  },
  {
   "cell_type": "code",
   "execution_count": 22,
   "metadata": {},
   "outputs": [],
   "source": [
    "episodes = []\n",
    "for episode in data:\n",
    "    target = episode['env_infos'][0]['target_index']\n",
    "    encodings = []\n",
    "    for state in episode['observations']:\n",
    "        obs = np.concatenate((state['base_obs'],*state['goal_set'],state['gaze_features']))\n",
    "        obs = th.tensor(obs).float()\n",
    "        encoding = encoder(obs)[:3].detach().numpy()\n",
    "        encodings.append(encoding)\n",
    "    encodings = np.array(encodings)\n",
    "    episodes.append((target,encodings))"
   ]
  },
  {
   "cell_type": "code",
   "execution_count": null,
   "metadata": {},
   "outputs": [],
   "source": [
    "latents = episodes[0][1]\n",
    "fig = plt.figure(figsize=(16,16))\n",
    "ax = fig.add_subplot(111,projection='3d')\n",
    "\n",
    "xs = latents[:, 0]\n",
    "ys = latents[:, 1]\n",
    "zs = latents[:, 2]\n",
    "time = np.array(len(latents))[None]\n",
    "\n",
    "colmap = cm.ScalarMappable(cmap=cm.plasma)\n",
    "colmap.set_array(time)\n",
    "\n",
    "yg = ax.scatter(xs, ys, zs, c=cm.plasma(time/max(time)), marker='o', s=50)\n",
    "cb = fig.colorbar(colmap)\n",
    "\n",
    "for i in range(len(xs) - 1):\n",
    "    ax.plot([xs[i],xs[i+1]],[ys[i],ys[i+1]],[zs[i],zs[i+1]], color='k', alpha=0.1)\n",
    "\n",
    "plt.show()\n",
    "\n",
    "                    \n",
    "plot_latents('switch', '3', 1, 3)\n"
   ]
  },
  {
   "cell_type": "code",
   "execution_count": null,
   "metadata": {},
   "outputs": [],
   "source": []
  }
 ],
 "metadata": {
  "kernelspec": {
   "display_name": "Python 3",
   "language": "python",
   "name": "python3"
  },
  "language_info": {
   "codemirror_mode": {
    "name": "ipython",
    "version": 3
   },
   "file_extension": ".py",
   "mimetype": "text/x-python",
   "name": "python",
   "nbconvert_exporter": "python",
   "pygments_lexer": "ipython3",
   "version": "3.7.9"
  }
 },
 "nbformat": 4,
 "nbformat_minor": 4
}
