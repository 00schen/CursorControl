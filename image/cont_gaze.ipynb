{
 "cells": [
  {
   "cell_type": "code",
   "execution_count": 1,
   "metadata": {},
   "outputs": [],
   "source": [
    "import h5py\n",
    "import numpy as np\n",
    "import os\n",
    "from pathlib import Path\n",
    "main_dir = str(Path().resolve())"
   ]
  },
  {
   "cell_type": "code",
   "execution_count": 2,
   "metadata": {},
   "outputs": [],
   "source": [
    "paths = np.load(os.path.join(main_dir,'demos','Bottle_model_on_policy_10_debug_1617312388085008300.npy'),allow_pickle=True)"
   ]
  },
  {
   "cell_type": "code",
   "execution_count": 3,
   "metadata": {},
   "outputs": [],
   "source": [
    "test = ([info['tool_pos'] for info in paths[0]['env_infos']],[info['gaze_features'] for info in paths[0]['env_infos']])\n",
    "\n",
    "train = (\n",
    "        sum([[info['tool_pos'] for info in path['env_infos']] for path in paths[1:]],[]),\n",
    "        sum([[info['gaze_features'] for info in path['env_infos']] for path in paths[1:]],[]),\n",
    ")"
   ]
  },
  {
   "cell_type": "code",
   "execution_count": 5,
   "metadata": {},
   "outputs": [
    {
     "name": "stdout",
     "output_type": "stream",
     "text": [
      "1919\n"
     ]
    }
   ],
   "source": [
    "gaze_features = train[1]+test[1]\n",
    "tool_pos = train[0]+test[0]\n",
    "print(len(gaze_features))"
   ]
  },
  {
   "cell_type": "code",
   "execution_count": null,
   "metadata": {},
   "outputs": [],
   "source": [
    "import h5py\n",
    "dataset = h5py.File(os.path.join(main_dir,'gaze_capture','gaze_data',f'bottle_cont_gaze_data.h5'))\n",
    "dataset.create_dataset('gaze_features', data=gaze_features)\n",
    "dataset.create_dataset('tool_pos', data=tool_pos)\n"
   ]
  },
  {
   "cell_type": "code",
   "execution_count": null,
   "metadata": {},
   "outputs": [],
   "source": []
  },
  {
   "cell_type": "code",
   "execution_count": 28,
   "metadata": {},
   "outputs": [],
   "source": [
    "import torch as th\n",
    "from torch import nn\n",
    "from torch.nn import functional as F\n",
    "from torch import optim\n",
    "\n",
    "dropout = .5\n",
    "model = nn.Sequential(*[\n",
    "    nn.Linear(128,128),\n",
    "    nn.AlphaDropout(dropout),\n",
    "    nn.ReLU(),\n",
    "    nn.Linear(128,128),\n",
    "    nn.AlphaDropout(dropout),\n",
    "    nn.ReLU(),\n",
    "    nn.Linear(128,128),\n",
    "    nn.AlphaDropout(dropout),\n",
    "    nn.ReLU(),\n",
    "    nn.Linear(128,3)\n",
    "])\n",
    "optimizer = optim.Adam(model.parameters(),lr=5e-4)"
   ]
  },
  {
   "cell_type": "code",
   "execution_count": 30,
   "metadata": {},
   "outputs": [
    {
     "name": "stderr",
     "output_type": "stream",
     "text": [
      "test--nmse: 0.022 rmse:0.106: 100%|██████████| 1000/1000 [01:52<00:00,  8.90it/s]\n"
     ]
    }
   ],
   "source": [
    "from tqdm import tqdm\n",
    "from matplotlib import pyplot as plt\n",
    "from mpl_toolkits.mplot3d import Axes3D\n",
    "# %matplotlib qt\n",
    "\n",
    "epochs = 1000\n",
    "t = tqdm(range(epochs))\n",
    "for epoch in t:\n",
    "    model.train()\n",
    "    for y,x in zip(np.array_split(train[0],10),np.array_split(train[1],10)):\n",
    "        x = th.tensor(x)\n",
    "        y = th.tensor(y).float()\n",
    "        pred_y = model(x)\n",
    "        loss = F.mse_loss(pred_y,y)\n",
    "\n",
    "        optimizer.zero_grad()\n",
    "        loss.backward()\n",
    "        optimizer.step()\n",
    "\n",
    "        nmse = th.var(pred_y-y)/th.var(pred_y)\n",
    "        rmse = th.sqrt(loss)\n",
    "        print_nmse = np.around(nmse.item(),3)\n",
    "        print_rmse = np.around(rmse.item(),3)\n",
    "    model.eval()\n",
    "    test_x = th.tensor(test[1])\n",
    "    test_y = th.tensor(test[0]).float()\n",
    "    test_pred_y = model(test_x)\n",
    "    test_loss = F.mse_loss(test_pred_y,test_y)\n",
    "    nmse = th.var(test_pred_y-test_y)/th.var(test_pred_y)\n",
    "    rmse = th.sqrt(test_loss)\n",
    "    print_nmse = np.around(nmse.item(),3)\n",
    "    print_mse = np.around(rmse.item(),3)\n",
    "    t.set_description('test--'+\"nmse: \"+str(print_nmse)+\" rmse:\"+str(print_mse))\n",
    "    \n",
    "# fig = plt.figure()\n",
    "# ax = Axes3D(fig)\n",
    "# ax.scatter(*(pred_y.numpy().T),label=\"predicted target positions\")\n",
    "# ax.scatter(*(y.numpy().T),label=\"predicted target positions\")\n",
    "# plt.legend()\n",
    "# plt.pause(0.05)\n",
    "# plt.show()\n",
    "#     plt.close()"
   ]
  },
  {
   "cell_type": "code",
   "execution_count": null,
   "metadata": {},
   "outputs": [],
   "source": []
  }
 ],
 "metadata": {
  "kernelspec": {
   "display_name": "Python 3",
   "language": "python",
   "name": "python3"
  },
  "language_info": {
   "codemirror_mode": {
    "name": "ipython",
    "version": 3
   },
   "file_extension": ".py",
   "mimetype": "text/x-python",
   "name": "python",
   "nbconvert_exporter": "python",
   "pygments_lexer": "ipython3",
   "version": "3.8.5"
  }
 },
 "nbformat": 4,
 "nbformat_minor": 4
}
