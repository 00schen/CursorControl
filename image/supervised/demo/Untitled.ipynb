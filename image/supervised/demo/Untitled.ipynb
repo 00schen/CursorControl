{
 "cells": [
  {
   "cell_type": "code",
   "execution_count": 2,
   "metadata": {},
   "outputs": [],
   "source": [
    "import tensorflow as tf\n",
    "import numpy as np\n",
    "from matplotlib import pyplot as plt\n",
    "import os\n",
    "parent = os.path.dirname(os.path.abspath(''))"
   ]
  },
  {
   "cell_type": "code",
   "execution_count": 3,
   "metadata": {},
   "outputs": [],
   "source": [
    "file = os.path.join(parent,'samples','trajectory.processed','t.noised_trajectory.npz')\n",
    "data = np.load(file)\n",
    "X,Y = data.values()\n",
    "\n",
    "X = (X-np.mean(X,axis=(0,1)))/np.std(X,axis=(0,1))\n",
    "X = X[:,:100,:]\n",
    "\n",
    "target_mean,target_std = np.mean(Y,axis=0),np.std(Y,axis=0)\n",
    "Y = (Y-target_mean)/target_std\n",
    "Y = np.repeat(Y[:,np.newaxis,:],100,1)"
   ]
  },
  {
   "cell_type": "code",
   "execution_count": 5,
   "metadata": {},
   "outputs": [],
   "source": [
    "model = tf.keras.models.load_model(os.path.join(parent,'model_dagger.h5'))"
   ]
  },
  {
   "cell_type": "code",
   "execution_count": 6,
   "metadata": {},
   "outputs": [],
   "source": [
    "predicted = model.predict(X)\n",
    "dist = np.linalg.norm(predicted-Y,axis=2)"
   ]
  },
  {
   "cell_type": "code",
   "execution_count": 16,
   "metadata": {},
   "outputs": [],
   "source": [
    "std = np.std(dist,axis=(0,1))\n",
    "dist /= std"
   ]
  },
  {
   "cell_type": "code",
   "execution_count": 14,
   "metadata": {},
   "outputs": [],
   "source": [
    "dist *= std"
   ]
  },
  {
   "cell_type": "code",
   "execution_count": 19,
   "metadata": {},
   "outputs": [
    {
     "data": {
      "text/plain": [
       "Text(0, 0.5, 'timestep')"
      ]
     },
     "execution_count": 19,
     "metadata": {},
     "output_type": "execute_result"
    },
    {
     "data": {
      "image/png": "[encoded data removed]",
      "text/plain": [
       "<Figure size 720x720 with 1 Axes>"
      ]
     },
     "metadata": {
      "needs_background": "light"
     },
     "output_type": "display_data"
    }
   ],
   "source": [
    "fig,axs = plt.subplots(1,1,figsize=(10,10))\n",
    "\n",
    "hist0,xedges0,yedges0 = np.histogram2d(dist.flatten(),list(range(100))*len(dist))\n",
    "extent0 = [xedges0[0], .5, yedges0[0], yedges0[-1]]\n",
    "im0 = axs.imshow(hist0.T, extent=extent0, origin='lower',aspect='auto')\n",
    "axs.set_xlabel(\"norm distance\")\n",
    "axs.set_ylabel(\"timestep\")"
   ]
  },
  {
   "cell_type": "code",
   "execution_count": null,
   "metadata": {},
   "outputs": [],
   "source": []
  },
  {
   "cell_type": "code",
   "execution_count": null,
   "metadata": {},
   "outputs": [],
   "source": []
  }
 ],
 "metadata": {
  "kernelspec": {
   "display_name": "Python 3",
   "language": "python",
   "name": "python3"
  },
  "language_info": {
   "codemirror_mode": {
    "name": "ipython",
    "version": 3
   },
   "file_extension": ".py",
   "mimetype": "text/x-python",
   "name": "python",
   "nbconvert_exporter": "python",
   "pygments_lexer": "ipython3",
   "version": "3.7.6"
  }
 },
 "nbformat": 4,
 "nbformat_minor": 4
}
