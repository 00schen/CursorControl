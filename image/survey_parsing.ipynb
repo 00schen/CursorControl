{
 "cells": [
  {
   "cell_type": "code",
   "execution_count": 92,
   "metadata": {},
   "outputs": [],
   "source": [
    "from numpy import genfromtxt\n",
    "import os\n",
    "import pandas as pd\n",
    "import numpy as np\n",
    "import gc"
   ]
  },
  {
   "cell_type": "code",
   "execution_count": 242,
   "metadata": {},
   "outputs": [
    {
     "name": "stdout",
     "output_type": "stream",
     "text": [
      "User 0 - Sheet1.csv\n",
      "User 1 - Sheet1.csv\n",
      "User 10 - Sheet1.csv\n",
      "User 2 - Sheet1.csv\n",
      "User 3 - Sheet1.csv\n",
      "User 4 - Sheet1.csv\n",
      "User 5 - Sheet1.csv\n",
      "User 6 - Sheet1.csv\n",
      "User 7 - Sheet1.csv\n",
      "User 9 - Sheet1.csv\n"
     ]
    }
   ],
   "source": [
    "gc.collect()\n",
    "survey_path = os.path.join(os.path.abspath(''),'surveys')\n",
    "surveys = {}\n",
    "for j,survey in enumerate(os.listdir(survey_path)):\n",
    "    if 'Participant' in survey:\n",
    "        continue\n",
    "    print(survey)\n",
    "    user_id = survey.split(sep=' ')[1]\n",
    "    survey_file = os.path.join(survey_path,survey)\n",
    "    df = pd.read_csv(survey_file,dtype='str')\n",
    "    experiments = []\n",
    "    for i,sl in enumerate([slice(6,17),slice(18,29), slice(30,41), slice(43,54), slice(55,66), slice(67,78)]):\n",
    "        exp_df = df.iloc[sl]\n",
    "        exp_df = exp_df.rename(columns={x:y for x,y in zip(df.columns,range(0,len(df.columns)))})\n",
    "        exp_df = exp_df.fillna(0)\n",
    "        exp_data = [exp_df.iloc[0][0], exp_df.iloc[1:-2].set_index(0), exp_df.iloc[-2:]]\n",
    "        exp_data[1] = exp_data[1].replace('x',1)\n",
    "        exp_data[1] = exp_data[1].iloc[:,list(range(7))]\n",
    "        exp_data[1] = exp_data[1].astype(int)\n",
    "        exp_data[1] = exp_data[1].dot(range(1,8))\n",
    "        exp_data[1] = pd.DataFrame(exp_data[1]).transpose()\n",
    "        experiments.append(exp_data)\n",
    "\n",
    "    exp,ratings,comments = zip(*experiments)\n",
    "    rate_df = pd.concat(ratings)\n",
    "    rate_df_ls, rate_df_b = rate_df[:3],rate_df[3:]\n",
    "    rate_df_ls = pd.DataFrame(rate_df_ls.reset_index(drop=True))\n",
    "    rate_df_b = pd.DataFrame(rate_df_b.reset_index(drop=True))\n",
    "    surveys[user_id] = {\n",
    "                    'experiment names': exp,\n",
    "                    'all ratings': rate_df.copy(),\n",
    "                    'treated lightswitch ratings': rate_df_ls.copy(),\n",
    "                    'treated bottle ratings': rate_df_b.copy(),\n",
    "                    'comments': pd.concat(comments).copy()\n",
    "                        }"
   ]
  },
  {
   "cell_type": "code",
   "execution_count": 255,
   "metadata": {},
   "outputs": [],
   "source": [
    "survey_file = os.path.join(survey_path,'Participant Info - Sheet1.csv')\n",
    "df = pd.read_csv(survey_file,dtype='str')\n",
    "df = df[1:13][['User ID','Condition']]\n",
    "df = df.set_index('User ID')\n",
    "user_cond = df.to_dict()['Condition']\n",
    "letter_number = {'A': 0, 'B': 1, 'C': 2}\n",
    "for k,v in user_cond.items():\n",
    "    order = list(v)\n",
    "    order = {letter_number[letter]:i for i,letter in enumerate(order)}\n",
    "    order = [order[i] for i in range(3)]\n",
    "    user_cond[k] = order"
   ]
  },
  {
   "cell_type": "code",
   "execution_count": 258,
   "metadata": {},
   "outputs": [],
   "source": [
    "for k in surveys.keys():\n",
    "    surveys[k]['lightswitch ratings'] = surveys[k]['treated lightswitch ratings']\n",
    "    surveys[k]['lightswitch ratings'] = surveys[k]['lightswitch ratings'].reindex(user_cond[k])\n",
    "    surveys[k]['lightswitch ratings'] = surveys[k]['lightswitch ratings'].reset_index(drop=True)\n",
    "    surveys[k]['bottle ratings'] = surveys[k]['treated bottle ratings'].reindex(user_cond[k])\n",
    "    surveys[k]['bottle ratings'] = surveys[k]['bottle ratings'].reindex(user_cond[k])\n",
    "    surveys[k]['bottle ratings'] = surveys[k]['bottle ratings'].reset_index(drop=True)"
   ]
  },
  {
   "cell_type": "code",
   "execution_count": 259,
   "metadata": {},
   "outputs": [
    {
     "name": "stdout",
     "output_type": "stream",
     "text": [
      "                                                    0  1  2\n",
      "0                                                          \n",
      "The system performed the task I wanted              5  3  4\n",
      "I felt in control                                   6  2  5\n",
      "The system responded to my input in the way tha...  6  1  6\n",
      "The system was competent at performing tasks, e...  6  6  6\n",
      "The system improved over time                       2  1  3\n",
      "I improved at using the system over time            5  4  5\n",
      "I always looked directly at my final target, ho...  1  2  1\n",
      "I compensated for flaws in the system by changi...  7  7  7\n"
     ]
    }
   ],
   "source": [
    "print(surveys['9']['lightswitch ratings'].transpose())"
   ]
  },
  {
   "cell_type": "code",
   "execution_count": 264,
   "metadata": {},
   "outputs": [
    {
     "name": "stdout",
     "output_type": "stream",
     "text": [
      "treatment                                             0    1    2\n",
      "0                                                                \n",
      "The system performed the task I wanted              3.2  4.1  3.3\n",
      "I felt in control                                   2.9  3.5  3.1\n",
      "The system responded to my input in the way tha...  3.3  3.3  3.5\n",
      "The system was competent at performing tasks, e...  4.7  5.2  4.7\n",
      "The system improved over time                       2.7  3.4  3.4\n",
      "I improved at using the system over time            3.4  3.6  3.5\n",
      "I always looked directly at my final target, ho...  2.6  3.7  3.2\n",
      "I compensated for flaws in the system by changi...  5.0  5.0  5.3\n",
      "treatment                                                  0         1  \\\n",
      "0                                                                        \n",
      "The system performed the task I wanted              1.135292  1.286684   \n",
      "I felt in control                                   1.370320  1.509231   \n",
      "The system responded to my input in the way tha...  1.567021  1.766981   \n",
      "The system was competent at performing tasks, e...  1.251666  0.918937   \n",
      "The system improved over time                       1.702939  2.412928   \n",
      "I improved at using the system over time            1.955050  2.221111   \n",
      "I always looked directly at my final target, ho...  1.837873  2.002776   \n",
      "I compensated for flaws in the system by changi...  2.211083  2.108185   \n",
      "\n",
      "treatment                                                  2  \n",
      "0                                                             \n",
      "The system performed the task I wanted              1.567021  \n",
      "I felt in control                                   1.728840  \n",
      "The system responded to my input in the way tha...  1.840894  \n",
      "The system was competent at performing tasks, e...  1.766981  \n",
      "The system improved over time                       2.065591  \n",
      "I improved at using the system over time            2.013841  \n",
      "I always looked directly at my final target, ho...  2.149935  \n",
      "I compensated for flaws in the system by changi...  2.002776  \n"
     ]
    }
   ],
   "source": [
    "ls_ratings = pd.concat([survey['lightswitch ratings'] for survey in surveys.values()])\n",
    "b_ratings = pd.concat([survey['bottle ratings'] for survey in surveys.values()])\n",
    "ls_ratings.index.name = 'treatment'\n",
    "\n",
    "ls_ratings = ls_ratings.groupby(by='treatment')\n",
    "ls_ratings_mean = ls_ratings.mean()\n",
    "ls_ratings_mean = ls_ratings_mean.transpose()\n",
    "ls_ratings_sd = ls_ratings.std()\n",
    "ls_ratings_sd = ls_ratings_sd.transpose()\n",
    "\n",
    "print(ls_ratings_mean)\n",
    "print(ls_ratings_sd)"
   ]
  }
 ],
 "metadata": {
  "kernelspec": {
   "display_name": "Python 3",
   "language": "python",
   "name": "python3"
  },
  "language_info": {
   "codemirror_mode": {
    "name": "ipython",
    "version": 3
   },
   "file_extension": ".py",
   "mimetype": "text/x-python",
   "name": "python",
   "nbconvert_exporter": "python",
   "pygments_lexer": "ipython3",
   "version": "3.8.5"
  }
 },
 "nbformat": 4,
 "nbformat_minor": 4
}
